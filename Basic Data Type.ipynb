{
 "cells": [
  {
   "cell_type": "markdown",
   "id": "b6094193",
   "metadata": {},
   "source": [
    "#                               BASIC DATA TYPES"
   ]
  },
  {
   "cell_type": "markdown",
   "id": "18ac5a76",
   "metadata": {},
   "source": [
    "python has several built-in data types. From all the built-in types available, you will find that a few of them represent basic objects , such as number, strings,characters,bytes and boolean values.\n",
    "Basic mean number and text . it does not include composite datatype  such as list, tuples , dictionries and others."
   ]
  },
  {
   "cell_type": "markdown",
   "id": "49ed00b4",
   "metadata": {},
   "source": [
    "# integer number"
   ]
  },
  {
   "cell_type": "markdown",
   "id": "c8bb186e",
   "metadata": {},
   "source": [
    "integer number are whole numbers with no decimal places. They can be positive and negative numbers."
   ]
  },
  {
   "cell_type": "code",
   "execution_count": 1,
   "id": "751d60e1",
   "metadata": {},
   "outputs": [
    {
     "data": {
      "text/plain": [
       "int"
      ]
     },
     "execution_count": 1,
     "metadata": {},
     "output_type": "execute_result"
    }
   ],
   "source": [
    "type(45)"
   ]
  },
  {
   "cell_type": "markdown",
   "id": "f588f7e2",
   "metadata": {},
   "source": [
    "# integer Literals "
   ]
  },
  {
   "cell_type": "markdown",
   "id": "f8fb5c74",
   "metadata": {},
   "source": [
    "An integer literal is just a number you write directly in your code with no calculation or variable involved. python provides a few different ways to create integer literals. The most commen way is to use base-ten literals taht look like the same as integers look in math"
   ]
  },
  {
   "cell_type": "code",
   "execution_count": 9,
   "id": "fdfe7b87",
   "metadata": {},
   "outputs": [
    {
     "data": {
      "text/plain": [
       "0"
      ]
     },
     "execution_count": 9,
     "metadata": {},
     "output_type": "execute_result"
    }
   ],
   "source": [
    "age= 25  # 25 is an integer literal\n",
    "         # age is a variable name \n",
    "42       # 42 is a litetal\n",
    "0       # 0 is a literal\n"
   ]
  },
  {
   "cell_type": "markdown",
   "id": "d43fce68",
   "metadata": {},
   "source": [
    "python has no limit to how long an integer value can be. The only constraint is the amount of memory your system has . for really , really long integer you can get a value error when converting it to a string "
   ]
  },
  {
   "cell_type": "code",
   "execution_count": 11,
   "id": "787d98c9",
   "metadata": {},
   "outputs": [
    {
     "ename": "IndentationError",
     "evalue": "unexpected indent (638862412.py, line 3)",
     "output_type": "error",
     "traceback": [
      "\u001b[1;36m  Cell \u001b[1;32mIn[11], line 3\u001b[1;36m\u001b[0m\n\u001b[1;33m    then we use sys.set_int_max_str_digits()\u001b[0m\n\u001b[1;37m    ^\u001b[0m\n\u001b[1;31mIndentationError\u001b[0m\u001b[1;31m:\u001b[0m unexpected indent\n"
     ]
    }
   ],
   "source": [
    "a=123**10000\n",
    "print(a)     #valueError exceed the limit 4300\n",
    "             then we use sys.set_int_max_str_digits()"
   ]
  },
  {
   "cell_type": "markdown",
   "id": "3f6d52a9",
   "metadata": {},
   "source": [
    "when you are working with long integers , yu can use the underscore character to make the literals more readable"
   ]
  },
  {
   "cell_type": "code",
   "execution_count": 13,
   "id": "bdf77901",
   "metadata": {},
   "outputs": [
    {
     "data": {
      "text/plain": [
       "1000000"
      ]
     },
     "execution_count": 13,
     "metadata": {},
     "output_type": "execute_result"
    }
   ],
   "source": [
    "1_000_000"
   ]
  },
  {
   "cell_type": "markdown",
   "id": "cda4794e",
   "metadata": {},
   "source": [
    "# integer methods"
   ]
  },
  {
   "cell_type": "markdown",
   "id": "0d0a3b57",
   "metadata": {},
   "source": [
    "### Method I: as_integer_ratio()"
   ]
  },
  {
   "cell_type": "markdown",
   "id": "f0217a8e",
   "metadata": {},
   "source": [
    "This is a method availble on python numbers (integers and floats)that gives you a fraction representing that number as a ratio of two integers. \n"
   ]
  },
  {
   "cell_type": "markdown",
   "id": "cfbec938",
   "metadata": {},
   "source": []
  },
  {
   "cell_type": "code",
   "execution_count": 14,
   "id": "7ac8ad81",
   "metadata": {},
   "outputs": [
    {
     "name": "stdout",
     "output_type": "stream",
     "text": [
      "(56, 1)\n"
     ]
    }
   ],
   "source": [
    "x=56\n",
    "print(x.as_integer_ratio())"
   ]
  },
  {
   "cell_type": "code",
   "execution_count": 15,
   "id": "dfd395fa",
   "metadata": {},
   "outputs": [
    {
     "name": "stdout",
     "output_type": "stream",
     "text": [
      "(3, 4)\n"
     ]
    }
   ],
   "source": [
    "x=0.75\n",
    "print(x.as_integer_ratio())"
   ]
  },
  {
   "cell_type": "markdown",
   "id": "149c2dc1",
   "metadata": {},
   "source": [
    "# Method 2\n",
    "integer.bit_count()\n",
    "Returns the number of 1s in the binary representataio of the integer absolute value.\n",
    "Think of how many bits are \"on \" in the number when  written in binary.\n",
    "useful in bit manipulation , optimization , or checking Hamming weight\n",
    "hamming weight mean how many 1s are the in the binary representation of a number "
   ]
  },
  {
   "cell_type": "code",
   "execution_count": 17,
   "id": "02d9871a",
   "metadata": {},
   "outputs": [
    {
     "name": "stdout",
     "output_type": "stream",
     "text": [
      "2\n"
     ]
    }
   ],
   "source": [
    "x= 6\n",
    "print(x.bit_count())"
   ]
  },
  {
   "cell_type": "code",
   "execution_count": 20,
   "id": "5700f900",
   "metadata": {},
   "outputs": [
    {
     "name": "stdout",
     "output_type": "stream",
     "text": [
      "3\n"
     ]
    }
   ],
   "source": [
    "x=6\n",
    "print (x.bit_length()) # it count bot 0 and  1"
   ]
  },
  {
   "cell_type": "markdown",
   "id": "1783457f",
   "metadata": {},
   "source": [
    "# integer.from_bytes()\n",
    "in python , int.from_bytes()is a class method that takes an arryay of bytes (or any bytes like object)and interpret as a number\n",
    "int.from_bytes(bytes,byteorder, *, signed =False)\n"
   ]
  },
  {
   "cell_type": "code",
   "execution_count": 30,
   "id": "8863726e",
   "metadata": {},
   "outputs": [
    {
     "name": "stdout",
     "output_type": "stream",
     "text": [
      "4096\n"
     ]
    }
   ],
   "source": [
    "data = b'\\x00\\x10\\x00' # the b in quotes mean this is a byte object in python \n",
    "num=int.from_bytes(data, byteorder='big')\n",
    "print(num)"
   ]
  },
  {
   "cell_type": "markdown",
   "id": "dda0540a",
   "metadata": {},
   "source": [
    "# .is_integer()\n",
    ".is_integer () is a method for floating-point numbers (float type in python),and it return true if the float is exaactly an integer value (no fractional part)\n",
    "### syntex: \n",
    "float_number.is_integer()\n",
    "\n",
    "if the number has no fractional part return TRUE  otherwise FALSE\n"
   ]
  },
  {
   "cell_type": "code",
   "execution_count": 32,
   "id": "4831b10f",
   "metadata": {},
   "outputs": [
    {
     "name": "stdout",
     "output_type": "stream",
     "text": [
      "True\n"
     ]
    }
   ],
   "source": [
    "x=5.0\n",
    "print (x.is_integer())"
   ]
  },
  {
   "cell_type": "code",
   "execution_count": 33,
   "id": "4ac36c6e",
   "metadata": {},
   "outputs": [
    {
     "name": "stdout",
     "output_type": "stream",
     "text": [
      "False\n"
     ]
    }
   ],
   "source": [
    "x=4.3\n",
    "print(x.is_integer())"
   ]
  },
  {
   "cell_type": "markdown",
   "id": "13e8b8da",
   "metadata": {},
   "source": [
    "# The built-in int()function\n",
    "This provide another way to create integer values using different repreentations. with no arguments the function return 0 \n",
    "\n",
    "This function is commoly used to convert other datatypes into integers provided that they are valid numeric values"
   ]
  },
  {
   "cell_type": "code",
   "execution_count": 34,
   "id": "899fb7aa",
   "metadata": {},
   "outputs": [
    {
     "data": {
      "text/plain": [
       "56"
      ]
     },
     "execution_count": 34,
     "metadata": {},
     "output_type": "execute_result"
    }
   ],
   "source": [
    "int(56.8)"
   ]
  },
  {
   "cell_type": "markdown",
   "id": "7656a5bf",
   "metadata": {},
   "source": [
    "# floating-point numbers\n",
    "floating point numbers or just float are number with a decimal place.\n",
    "# floating point Literals\n",
    "In python the dot character (.) is what you must use to create floating-point literals\n",
    "\n",
    "We also use _ when the number is so long\n",
    "\n"
   ]
  },
  {
   "cell_type": "code",
   "execution_count": 35,
   "id": "1fd271f2",
   "metadata": {},
   "outputs": [
    {
     "data": {
      "text/plain": [
       "34.5"
      ]
     },
     "execution_count": 35,
     "metadata": {},
     "output_type": "execute_result"
    }
   ],
   "source": [
    "34.5"
   ]
  },
  {
   "cell_type": "code",
   "execution_count": 36,
   "id": "1fc4291c",
   "metadata": {},
   "outputs": [
    {
     "data": {
      "text/plain": [
       "0.23"
      ]
     },
     "execution_count": 36,
     "metadata": {},
     "output_type": "execute_result"
    }
   ],
   "source": [
    ".23"
   ]
  },
  {
   "cell_type": "code",
   "execution_count": 37,
   "id": "3244e03a",
   "metadata": {},
   "outputs": [
    {
     "data": {
      "text/plain": [
       "56.0"
      ]
     },
     "execution_count": 37,
     "metadata": {},
     "output_type": "execute_result"
    }
   ],
   "source": [
    "56."
   ]
  },
  {
   "cell_type": "code",
   "execution_count": null,
   "id": "9898126f",
   "metadata": {},
   "outputs": [],
   "source": []
  },
  {
   "cell_type": "code",
   "execution_count": 38,
   "id": "78e4d329",
   "metadata": {},
   "outputs": [
    {
     "data": {
      "text/plain": [
       "-54"
      ]
     },
     "execution_count": 38,
     "metadata": {},
     "output_type": "execute_result"
    }
   ],
   "source": [
    "-54"
   ]
  },
  {
   "cell_type": "markdown",
   "id": "b66a773d",
   "metadata": {},
   "source": [
    "# floating point method \n",
    "1).as_integer_ratio:returns a pair of tntegers whose ratio is exactly equal to the original float.\n",
    "\n",
    "2).is_integer\n",
    "when the number after decimal point is zero return TRUE otherwise Flase \n",
    "3) .hex()and .fromhex()method allow you to work with floating -point values using a hexadecimal representation\n",
    "\n",
    "in both methods the hexadecimal string has the following format:\n",
    "[sign] [\"0x\"] integer [\".\" fraction] [\"p\" exponent]"
   ]
  },
  {
   "cell_type": "markdown",
   "id": "366699b3",
   "metadata": {},
   "source": [
    "# complex number\n",
    "complex number are composed of real and imaginary parts  \n",
    "\n",
    "i.e 2+3j\n",
    "\n",
    "Note: there must be numeric value before j\n",
    "\n",
    "# complex number method \n",
    ".conjugate()\n",
    "just cahnge the dign of complex number\n",
    "\n",
    "\n",
    "when you call complex with no arguments it will get 0j and if you call it with one argument it will treat as real part and the imaginary part is considerd 0j"
   ]
  },
  {
   "cell_type": "code",
   "execution_count": 42,
   "id": "8791af8d",
   "metadata": {},
   "outputs": [
    {
     "name": "stdout",
     "output_type": "stream",
     "text": [
      "Hello world\n",
      "hello\n",
      "----hi----\n",
      "b'Hello'\n",
      "1         2         3\n",
      "My name is Salman\n",
      "My name is Salman\n",
      "a-b-c\n",
      "hi...\n",
      "...hi\n",
      "hello\n",
      "hello\n",
      "hello  \n",
      "  hello\n",
      "happy\n",
      "reading\n",
      "hello Python\n",
      "hELLO wORLD\n",
      "Hello World\n",
      "HELLO\n",
      "00042\n",
      "3\n",
      "2\n",
      "3\n",
      "1\n",
      "3\n",
      "True\n",
      "True\n",
      "('hello', ' ', 'world')\n",
      "('hello', ' ', 'world')\n",
      "['a', 'b', 'c']\n",
      "['a,b', 'c']\n",
      "['line1', 'line2']\n",
      "True\n",
      "True\n",
      "True\n",
      "True\n",
      "True\n",
      "True\n",
      "True\n",
      "True\n",
      "True\n",
      "True\n"
     ]
    }
   ],
   "source": [
    "# 1. capitalize()\n",
    "print(\"hello world\".capitalize())  # Hello world\n",
    "\n",
    "# 2. casefold()\n",
    "print(\"HELLO\".casefold())  # hello\n",
    "\n",
    "# 3. center()\n",
    "print(\"hi\".center(10, \"-\"))  # ----hi----\n",
    "\n",
    "# 4. encode()\n",
    "print(\"Hello\".encode(\"utf-8\"))  # b'Hello'\n",
    "\n",
    "# 5. expandtabs()\n",
    "print(\"1\\t2\\t3\".expandtabs(10))# '1   2   3'\n",
    "\n",
    "# 6. format()\n",
    "print(\"My name is {}\".format(\"Salman\"))  # My name is Salman\n",
    "\n",
    "# 7. format_map()\n",
    "data = {\"name\": \"Salman\"}\n",
    "print(\"My name is {name}\".format_map(data))  # My name is Salman\n",
    "\n",
    "# 8. join()\n",
    "print(\"-\".join([\"a\", \"b\", \"c\"]))  # a-b-c\n",
    "\n",
    "# 9. ljust()\n",
    "print(\"hi\".ljust(5, \".\"))  # hi...\n",
    "\n",
    "# 10. rjust()\n",
    "print(\"hi\".rjust(5, \".\"))  # ...hi\n",
    "\n",
    "# 11. lower()\n",
    "print(\"HELLO\".lower())  # hello\n",
    "\n",
    "# 12. strip()\n",
    "print(\"  hello  \".strip())  # hello\n",
    "\n",
    "# 13. lstrip()\n",
    "print(\"  hello  \".lstrip())  # 'hello  '\n",
    "\n",
    "# 14. rstrip()\n",
    "print(\"  hello  \".rstrip())  # '  hello'\n",
    "\n",
    "# 15. removeprefix()\n",
    "print(\"unhappy\".removeprefix(\"un\"))  # happy\n",
    "\n",
    "# 16. removesuffix()\n",
    "print(\"reading.py\".removesuffix(\".py\"))  # reading\n",
    "\n",
    "# 17. replace()\n",
    "print(\"hello world\".replace(\"world\", \"Python\"))  # hello Python\n",
    "\n",
    "# 18. swapcase()\n",
    "print(\"Hello World\".swapcase())  # hELLO wORLD\n",
    "\n",
    "# 19. title()\n",
    "print(\"hello world\".title())  # Hello World\n",
    "\n",
    "# 20. upper()\n",
    "print(\"hello\".upper())  # HELLO\n",
    "\n",
    "# 21. zfill()\n",
    "print(\"42\".zfill(5))  # 00042\n",
    "\n",
    "# 22. count()\n",
    "print(\"banana\".count(\"a\"))  # 3\n",
    "\n",
    "# 23. find()\n",
    "print(\"hello\".find(\"l\"))  # 2\n",
    "\n",
    "# 24. rfind()\n",
    "print(\"hello\".rfind(\"l\"))  # 3\n",
    "\n",
    "# 25. index()\n",
    "print(\"hello\".index(\"e\"))  # 1\n",
    "\n",
    "# 26. rindex()\n",
    "print(\"hello\".rindex(\"l\"))  # 3\n",
    "\n",
    "# 27. startswith()\n",
    "print(\"hello\".startswith(\"he\"))  # True\n",
    "\n",
    "# 28. endswith()\n",
    "print(\"hello\".endswith(\"lo\"))  # True\n",
    "\n",
    "# 29. partition()\n",
    "print(\"hello world\".partition(\" \"))  # ('hello', ' ', 'world')\n",
    "\n",
    "# 30. rpartition()\n",
    "print(\"hello world\".rpartition(\" \"))  # ('hello', ' ', 'world')\n",
    "\n",
    "# 31. split()\n",
    "print(\"a,b,c\".split(\",\"))  # ['a', 'b', 'c']\n",
    "\n",
    "# 32. rsplit()\n",
    "print(\"a,b,c\".rsplit(\",\", 1))  # ['a,b', 'c']\n",
    "\n",
    "# 33. splitlines()\n",
    "print(\"line1\\nline2\".splitlines())  # ['line1', 'line2']\n",
    "\n",
    "# 34. isascii()\n",
    "print(\"hello\".isascii())  # True\n",
    "\n",
    "# 35. isalpha()\n",
    "print(\"abc\".isalpha())  # True\n",
    "\n",
    "# 36. isalnum()\n",
    "print(\"abc123\".isalnum())  # True\n",
    "\n",
    "# 37. isdecimal()\n",
    "print(\"123\".isdecimal())  # True\n",
    "\n",
    "# 38. isdigit()\n",
    "print(\"123\".isdigit())  # True\n",
    "\n",
    "# 39. isnumeric()\n",
    "print(\"123\".isnumeric())  # True\n",
    "\n",
    "# 40. islower()\n",
    "print(\"hello\".islower())  # True\n",
    "\n",
    "# 41. isupper()\n",
    "print(\"HELLO\".isupper())  # True\n",
    "\n",
    "# 42. istitle()\n",
    "print(\"Hello World\".istitle())  # True\n",
    "\n",
    "# 43. isspace()\n",
    "print(\"   \".isspace())  # True\n"
   ]
  },
  {
   "cell_type": "code",
   "execution_count": 49,
   "id": "e8684f59",
   "metadata": {},
   "outputs": [
    {
     "name": "stdout",
     "output_type": "stream",
     "text": [
      "salman\n"
     ]
    }
   ],
   "source": [
    "class Person:\n",
    "    def __init__(self, name, age):\n",
    "        self.name = name\n",
    "        self.age = age\n",
    "\n",
    "    def __str__(self):\n",
    "        return f\"I'm {self.name}, and I'm {self.age} years old.\"\n",
    "    \n",
    "    print(str(\"salman\"))"
   ]
  },
  {
   "cell_type": "code",
   "execution_count": null,
   "id": "7e168955",
   "metadata": {},
   "outputs": [],
   "source": []
  },
  {
   "cell_type": "code",
   "execution_count": null,
   "id": "ab42c9ca",
   "metadata": {},
   "outputs": [],
   "source": []
  }
 ],
 "metadata": {
  "kernelspec": {
   "display_name": "base",
   "language": "python",
   "name": "python3"
  },
  "language_info": {
   "codemirror_mode": {
    "name": "ipython",
    "version": 3
   },
   "file_extension": ".py",
   "mimetype": "text/x-python",
   "name": "python",
   "nbconvert_exporter": "python",
   "pygments_lexer": "ipython3",
   "version": "3.12.4"
  }
 },
 "nbformat": 4,
 "nbformat_minor": 5
}
